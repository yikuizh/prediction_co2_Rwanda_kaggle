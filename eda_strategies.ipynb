{
 "cells": [
  {
   "cell_type": "code",
   "execution_count": 1,
   "id": "64d32ff7-2115-4b31-bfa0-ed0ebad89da0",
   "metadata": {},
   "outputs": [],
   "source": [
    "import pandas as pd; pd.set_option('display.max_columns', 100)\n",
    "import numpy as np\n",
    "\n",
    "from tqdm.notebook import tqdm\n",
    "\n",
    "import matplotlib.pyplot as plt; plt.style.use('ggplot')\n",
    "import seaborn as sns\n",
    "import plotly.express as px\n",
    "\n",
    "from sklearn.cluster import KMeans\n",
    "\n",
    "from sklearn.tree import DecisionTreeRegressor, plot_tree\n",
    "from sklearn.preprocessing import MinMaxScaler, StandardScaler, LabelEncoder\n",
    "from sklearn.pipeline import make_pipeline\n",
    "from sklearn.linear_model import Ridge, RidgeCV, Lasso, LassoCV\n",
    "from sklearn.model_selection import KFold, StratifiedKFold, train_test_split, GridSearchCV, RepeatedKFold, RepeatedStratifiedKFold, GroupKFold\n",
    "from sklearn.metrics import mean_squared_error, mean_absolute_error\n",
    "from sklearn.inspection import PartialDependenceDisplay\n",
    "from sklearn.ensemble import RandomForestRegressor, HistGradientBoostingRegressor, GradientBoostingRegressor, ExtraTreesRegressor\n",
    "from sklearn.svm import SVR\n",
    "from lightgbm import LGBMRegressor\n",
    "from xgboost import XGBRegressor\n",
    "#from catboost import CatBoostRegressor"
   ]
  },
  {
   "cell_type": "code",
   "execution_count": null,
   "id": "00a9ce19-e41f-4e7b-b2a8-c3cf09909d89",
   "metadata": {},
   "outputs": [],
   "source": [
    "# load data and prepare output csv file\n",
    "\n",
    "train = pd.read_csv(path+'/dataset/train.csv')\n",
    "test = pd.read_csv(path+'/dataset/test.csv')\n",
    "submission = pd.read_csv(path+'/dataset/sample_submission.csv')"
   ]
  },
  {
   "cell_type": "code",
   "execution_count": null,
   "id": "3c582dd2-e6e2-4176-8d40-e6e2f6790d7d",
   "metadata": {},
   "outputs": [],
   "source": [
    "# check nan ratio\n",
    "100*train.isna().sum().sort_values(ascending = False) / train.shape[0]"
   ]
  },
  {
   "cell_type": "code",
   "execution_count": null,
   "id": "d75dae0f-a8e6-4f3d-b274-3d6fded112ff",
   "metadata": {},
   "outputs": [],
   "source": [
    "# visualize the distribution -- call sns kdeplot for showing pdf of the target variable\n",
    "sns.kdeplot(data = train, x = 'emission', fill = True, color = 'steelblue').set_title('Distribution of Emission')\n",
    "# see if the distribution changes along time\n",
    "# visualize the time series of the output\n",
    "sns.relplot(data = train, x = 'week_no', y = 'emission', col = 'year', kind = 'line', color = 'steelblue');"
   ]
  },
  {
   "cell_type": "code",
   "execution_count": null,
   "id": "427dd4bc-447b-4f61-8a45-30a5510e70c1",
   "metadata": {},
   "outputs": [],
   "source": [
    "# visualize the emission at locations -- ?\n",
    "fig = px.scatter_mapbox(train[train['year'] == 2019], \n",
    "                        lat = 'latitude', \n",
    "                        lon = 'longitude', \n",
    "                        color = 'emission',\n",
    "                        animation_frame = 'week_no',\n",
    "                        zoom = 6)\n",
    "\n",
    "fig.update_layout(mapbox_style = \"open-street-map\")\n",
    "fig.update_layout(margin={\"r\":0,\"t\":0,\"l\":0,\"b\":0})\n",
    "fig.show();"
   ]
  },
  {
   "cell_type": "code",
   "execution_count": null,
   "id": "788a2b17-ad9a-4307-bf2a-746d729fbf07",
   "metadata": {},
   "outputs": [],
   "source": [
    "# visaulzie certain location\n",
    "\n",
    "plt.figure(figsize = (18, 8))\n",
    "\n",
    "sns.relplot(data = train[train['location'] == '-2.079_29.321'], x = 'week_no', y = 'emission', col = 'year', kind = 'line', color = 'steelblue');"
   ]
  }
 ],
 "metadata": {
  "kernelspec": {
   "display_name": "data_project_env",
   "language": "python",
   "name": "data_project_env"
  },
  "language_info": {
   "codemirror_mode": {
    "name": "ipython",
    "version": 3
   },
   "file_extension": ".py",
   "mimetype": "text/x-python",
   "name": "python",
   "nbconvert_exporter": "python",
   "pygments_lexer": "ipython3",
   "version": "3.10.12"
  }
 },
 "nbformat": 4,
 "nbformat_minor": 5
}
